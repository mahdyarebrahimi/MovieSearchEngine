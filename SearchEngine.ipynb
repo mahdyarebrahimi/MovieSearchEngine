{
 "cells": [
  {
   "cell_type": "markdown",
   "id": "3879635c-92d1-4490-8838-ad800b04f7c2",
   "metadata": {},
   "source": [
    "# 1. Imports and Environment Setup"
   ]
  },
  {
   "cell_type": "code",
   "execution_count": 36,
   "id": "b249a02b-9d4f-4b0d-a530-e6458252c72d",
   "metadata": {},
   "outputs": [],
   "source": [
    "import ast\n",
    "import pandas as pd\n",
    "from sklearn.model_selection import train_test_split\n",
    "from sklearn.preprocessing import MultiLabelBinarizer\n",
    "import re\n",
    "import torch\n",
    "import numpy as np\n",
    "from numpy import dot\n",
    "from numpy.linalg import norm\n",
    "from sentence_transformers import SentenceTransformer\n",
    "from transformers import (\n",
    "    AutoTokenizer, \n",
    "    AutoModelForSequenceClassification, \n",
    "    TrainingArguments, \n",
    "    Trainer,\n",
    "    pipeline\n",
    ")\n",
    "from rapidfuzz import process, fuzz\n",
    "from datasets import Dataset, DatasetDict\n",
    "from sklearn.metrics import f1_score\n",
    "import ipywidgets as widgets\n",
    "from IPython.display import display, HTML\n",
    "import logging\n",
    "logging.disable(logging.WARNING)"
   ]
  },
  {
   "cell_type": "markdown",
   "id": "93960a8a-36c1-4634-9d64-fa204da96797",
   "metadata": {},
   "source": [
    "# 2. Data Loading and Preparation"
   ]
  },
  {
   "cell_type": "code",
   "execution_count": 39,
   "id": "30fbd84e-99c6-446e-8799-86d9ddb52f9e",
   "metadata": {},
   "outputs": [],
   "source": [
    "df = pd.read_csv(\"Movies.csv\")\n",
    "def parse_genre_list(genre_string):\n",
    "    return ast.literal_eval(genre_string)\n",
    "\n",
    "df[\"genres\"] = df[\"genres\"].apply(parse_genre_list)"
   ]
  },
  {
   "cell_type": "code",
   "execution_count": 41,
   "id": "2cfa48de-2235-4020-900f-7e78d8b2aac3",
   "metadata": {},
   "outputs": [],
   "source": [
    "def make_movie_text(row):\n",
    "    return row[\"title\"] + \" \" + row[\"overview\"]\n",
    "\n",
    "df[\"combined_text\"] = df.apply(make_movie_text, axis=1)"
   ]
  },
  {
   "cell_type": "markdown",
   "id": "a504371c-69c4-4b43-a8c8-1d89c0cb4529",
   "metadata": {},
   "source": [
    "# 3. Generating Sentence Embeddings\n",
    "We use the SentenceTransformer model \"all-MiniLM-L6-v2\" to convert each movie's combined text (title + overview) into a vector representation, which allows us to perform semantic searches.\n"
   ]
  },
  {
   "cell_type": "code",
   "execution_count": 44,
   "id": "e416d646-e893-4e9c-a4ab-ef89209fbe34",
   "metadata": {},
   "outputs": [
    {
     "data": {
      "application/vnd.jupyter.widget-view+json": {
       "model_id": "821388b0a898483b97277d229bf08740",
       "version_major": 2,
       "version_minor": 0
      },
      "text/plain": [
       "Batches:   0%|          | 0/267 [00:00<?, ?it/s]"
      ]
     },
     "metadata": {},
     "output_type": "display_data"
    }
   ],
   "source": [
    "embedding_model = SentenceTransformer(\"sentence-transformers/all-MiniLM-L6-v2\")\n",
    "\n",
    "embeddings = embedding_model.encode(df[\"combined_text\"].tolist(), show_progress_bar=True)\n",
    "df[\"embedding\"] = list(embeddings)\n"
   ]
  },
  {
   "cell_type": "markdown",
   "id": "0e11270a-3565-4dd8-a5b9-df793f12b3cc",
   "metadata": {},
   "source": [
    "# 4. Summarization Pipeline\n",
    "We set up a Hugging Face summarization pipeline using the \"distilbart-cnn-12-6\" model. \n",
    "- `summarize_overview` checks if the overview text is short; if so, it trims it. Otherwise, it generates a summary.\n"
   ]
  },
  {
   "cell_type": "code",
   "execution_count": 47,
   "id": "d0463406-e6ef-4ae6-ae77-db9c2198c5f8",
   "metadata": {},
   "outputs": [],
   "source": [
    "summarizer = pipeline(\n",
    "    \"summarization\", \n",
    "    model=\"sshleifer/distilbart-cnn-12-6\", \n",
    "    tokenizer=\"sshleifer/distilbart-cnn-12-6\",\n",
    "    device=0 if torch.cuda.is_available() else -1\n",
    ")\n",
    "\n",
    "def summarize_overview(text, max_length=60, min_length=10):\n",
    "    if not text or len(text.split()) < 30:\n",
    "        return text[:150] + (\"...\" if len(text) > 150 else \"\")\n",
    "    \n",
    "    summary = summarizer(text, max_length=max_length, min_length=min_length, do_sample=False)\n",
    "    return summary[0][\"summary_text\"]\n"
   ]
  },
  {
   "cell_type": "markdown",
   "id": "3ce2964f-199e-4672-b724-b54a93cfcc63",
   "metadata": {},
   "source": [
    "# 5. Synonyms for Genres and Intents\n",
    "We define dictionaries mapping canonical genre/intent names to various synonyms. \n",
    "- `Example`: \"action\": [\"action\", \"actions\", \"Action\"].\n",
    "These help us handle different user phrasings in fuzzy matching.\n"
   ]
  },
  {
   "cell_type": "code",
   "execution_count": 50,
   "id": "71aefa47-ecbf-4716-a0ba-929d58fc9f3a",
   "metadata": {},
   "outputs": [],
   "source": [
    "intent_synonyms = {\n",
    "    \"best\": [\"best\", \"top\", \"top rated\", \"highest rated\"],\n",
    "    \"newest\": [\"newest\", \"latest\", \"recent\"],\n",
    "    \"popular\": [\"most popular\", \"popular\", \"trending\", \"famous\"],\n",
    "}\n",
    "genre_synonyms = {\n",
    "    \"action\": [\"action\", \"actions\",\"Action\"],\n",
    "    \"adventure\": [\"adventure\", \"adventurous\"],\n",
    "    \"comedy\": [\"comedy\", \"comedies\", \"funny\"],\n",
    "    \"drama\": [\"drama\", \"dramatic\", \"dramas\"],\n",
    "    \"fantasy\": [\"fantasy\", \"fantasies\"],\n",
    "    \"science fiction\": [\"science fiction\", \"scifi\", \"sci-fi\", \"s-f\", \"sci fi\"],\n",
    "    \"romance\": [\"romance\", \"romantic\", \"romcom\", \"rom-com\"],\n",
    "    \"horror\": [\"horror\", \"horrors\", \"scary\"],\n",
    "    \"thriller\": [\"thriller\", \"thrilling\"],\n",
    "    \"crime\": [\"crime\", \"criminal\"],\n",
    "    \"animation\": [\"animation\", \"animated\", \"cartoon\"],\n",
    "    \"mystery\": [\"mystery\", \"mysteries\"],\n",
    "    \"family\": [\"family\"],\n",
    "    \"war\": [\"war\", \"wars\"],\n",
    "}"
   ]
  },
  {
   "cell_type": "markdown",
   "id": "05ad9ffa-b323-4400-97ab-b4651ecb6461",
   "metadata": {},
   "source": [
    "# 6. Fuzzy Matching Functions\n",
    "Two functions using `rapidfuzz.process.extractOne` help us:\n",
    "- **match_genre_fuzzy**: Identify which genre best matches the user's input.\n",
    "- **match_intent_fuzzy**: Identify if the user is looking for \"best\", \"newest\", or \"popular\" movies.\n"
   ]
  },
  {
   "cell_type": "code",
   "execution_count": 53,
   "id": "527c715f-6c2d-4019-bfd6-6db20e29006c",
   "metadata": {},
   "outputs": [],
   "source": [
    "def match_genre_fuzzy(user_text, threshold=80):\n",
    "    flattened = []\n",
    "    for canon, syn_list in genre_synonyms.items():\n",
    "        for s in syn_list:\n",
    "            flattened.append((canon, s))\n",
    "\n",
    "    best_match = process.extractOne(\n",
    "        user_text, [fs[1] for fs in flattened], \n",
    "        scorer=fuzz.token_set_ratio\n",
    "    )\n",
    "    if best_match and best_match[1] >= threshold:\n",
    "        matched_synonym = best_match[0]\n",
    "        for (canon_genre, syn) in flattened:\n",
    "            if syn == matched_synonym:\n",
    "                return canon_genre\n",
    "    return None"
   ]
  },
  {
   "cell_type": "code",
   "execution_count": 55,
   "id": "a2060bcc-7ea1-4b3f-af1d-ebc978f301fd",
   "metadata": {},
   "outputs": [],
   "source": [
    "def match_intent_fuzzy(user_text, threshold=80):\n",
    "    flattened_intents = []\n",
    "    for canon, syn_list in intent_synonyms.items():\n",
    "        for s in syn_list:\n",
    "            flattened_intents.append((canon, s))\n",
    "\n",
    "    best_match = process.extractOne(\n",
    "        user_text, [fi[1] for fi in flattened_intents],\n",
    "        scorer=fuzz.token_set_ratio\n",
    "    )\n",
    "    if best_match and best_match[1] >= threshold:\n",
    "        matched_syn = best_match[0]\n",
    "        for (canon_intent, syn) in flattened_intents:\n",
    "            if syn == matched_syn:\n",
    "                return canon_intent\n",
    "    return None"
   ]
  },
  {
   "cell_type": "markdown",
   "id": "20ec6961-a17c-4f80-a6cb-f9026dbd9d33",
   "metadata": {},
   "source": [
    "# 7. Cosine Similarity and Semantic Search\n",
    "- **cosine_similarity**: Calculates the cosine similarity between two vectors.\n",
    "- **semantic_search**: Encodes the query, compares it with each movie's embedding, and returns the top matches.\n"
   ]
  },
  {
   "cell_type": "code",
   "execution_count": 58,
   "id": "0b016233-41a0-436c-a6cd-d21c5167215f",
   "metadata": {},
   "outputs": [],
   "source": [
    "def cosine_similarity(a, b):\n",
    "    return dot(a, b) / (norm(a) * norm(b))\n",
    "\n",
    "def semantic_search(df, query, embedding_model, top_n=10):\n",
    "    query_emb = embedding_model.encode(query)\n",
    "    sims = []\n",
    "    for i, emb in enumerate(df[\"embedding\"]):\n",
    "        sim = cosine_similarity(query_emb, emb)\n",
    "        sims.append((i, sim))\n",
    "    sims.sort(key=lambda x: x[1], reverse=True)\n",
    "    top_indices = [idx for (idx, _) in sims[:top_n]]\n",
    "    return df.iloc[top_indices]"
   ]
  },
  {
   "cell_type": "markdown",
   "id": "8bb29ff0-2e18-4453-88a6-37a5b3f1f243",
   "metadata": {},
   "source": [
    "# 8. Main Search Function\n",
    "The `search` function orchestrates how we interpret the user's query:\n",
    "1. Converts the query to lowercase, determines if it's asking about multiple \"movies\" or just one.\n",
    "2. Fuzzy matches for intent (best/newest/popular) and genre.\n",
    "3. Filters the DataFrame by genre if found.\n",
    "4. Sorts by appropriate columns or defaults to semantic search.\n",
    "5. Generates an output list of result dictionaries, each containing a title, genres, summary, etc.\n"
   ]
  },
  {
   "cell_type": "code",
   "execution_count": 61,
   "id": "211e96af-d13f-484d-a28c-f9ece8c2dcdc",
   "metadata": {},
   "outputs": [],
   "source": [
    "def search(df, query, embedding_model, top_n=10):\n",
    "    query_lower = query.lower()\n",
    "    if \"movies\" in query_lower:\n",
    "        n_results = top_n\n",
    "    else:\n",
    "        n_results = 1\n",
    "\n",
    "    intent = match_intent_fuzzy(query_lower)\n",
    "    matched_genre = None\n",
    "    words = query_lower.split()\n",
    "    for w in words:\n",
    "        g = match_genre_fuzzy(w)\n",
    "        if g:\n",
    "            matched_genre = g\n",
    "            break\n",
    "    if matched_genre:\n",
    "        df_filtered = df[df[\"genres\"].apply(\n",
    "            lambda glist: any(g.capitalize() == matched_genre.capitalize() for g in glist)\n",
    "        )]\n",
    "    else:\n",
    "        df_filtered = df\n",
    "    print(df_filtered)\n",
    "    print(df['genres'] == matched_genre.capitalize())\n",
    "    if intent == \"best\":\n",
    "        sort_col = \"vote_average\"\n",
    "        ascending = False\n",
    "    elif intent == \"newest\":\n",
    "        sort_col = \"release_date\"\n",
    "        ascending = False\n",
    "    elif intent == \"popular\":\n",
    "        sort_col = \"popularity\"\n",
    "        ascending = False\n",
    "    else:\n",
    "        sort_col = None\n",
    "\n",
    "    if sort_col:\n",
    "        if len(df_filtered) > 0:\n",
    "            if sort_col == \"release_date\" and df_filtered[sort_col].dtype == object:\n",
    "                df_filtered[sort_col] = pd.to_datetime(df_filtered[sort_col], errors=\"coerce\")\n",
    "            df_filtered = df_filtered.sort_values(by=sort_col, ascending=ascending)\n",
    "            results = df_filtered.head(n_results)\n",
    "            if len(results) == 0:\n",
    "                results = semantic_search(df, query, embedding_model, top_n=n_results)\n",
    "        else:\n",
    "            results = semantic_search(df, query, embedding_model, top_n=n_results)\n",
    "    else:\n",
    "        results = semantic_search(df_filtered, query, embedding_model, top_n=n_results)\n",
    "\n",
    "    output = []\n",
    "    for _, row in results.iterrows():\n",
    "        short_summary = summarize_overview(row[\"overview\"])  # Summaries\n",
    "        item = {\n",
    "            \"title\": row[\"title\"],\n",
    "            \"genres\": row[\"genres\"],\n",
    "            \"summary_of_overview\": short_summary\n",
    "        }\n",
    "        if \"vote_average\" in row:\n",
    "            item[\"vote_average\"] = row[\"vote_average\"]\n",
    "        if \"release_date\" in row:\n",
    "            item[\"release_date\"] = str(row[\"release_date\"])\n",
    "        if \"popularity\" in row:\n",
    "            item[\"popularity\"] = row[\"popularity\"]\n",
    "        output.append(item)\n",
    "    \n",
    "    return output"
   ]
  },
  {
   "cell_type": "markdown",
   "id": "eeb2cae5-eebb-4589-ba58-cb9b343aab55",
   "metadata": {},
   "source": [
    "# 9. Display the Interactive UI"
   ]
  },
  {
   "cell_type": "code",
   "execution_count": 64,
   "id": "ffd7ffb2-fbfd-4bc1-b1c1-7621f91357fb",
   "metadata": {},
   "outputs": [
    {
     "data": {
      "application/vnd.jupyter.widget-view+json": {
       "model_id": "1cba7d725cd94cdda58134f0d3a6c0b8",
       "version_major": 2,
       "version_minor": 0
      },
      "text/plain": [
       "HBox(children=(Text(value='', description='Query:', layout=Layout(width='400px'), placeholder='Type your query…"
      ]
     },
     "metadata": {},
     "output_type": "display_data"
    },
    {
     "data": {
      "application/vnd.jupyter.widget-view+json": {
       "model_id": "c4057149d74a42718f7e2c314fe83400",
       "version_major": 2,
       "version_minor": 0
      },
      "text/plain": [
       "Output()"
      ]
     },
     "metadata": {},
     "output_type": "display_data"
    }
   ],
   "source": [
    "df_movies = df \n",
    "embedding_model = embedding_model\n",
    "\n",
    "# 1. Create widgets\n",
    "query_input = widgets.Text(\n",
    "    value='',\n",
    "    placeholder='Type your query here, e.g. \"Best drama movie\"',\n",
    "    description='Query:',\n",
    "    layout=widgets.Layout(width='400px')\n",
    ")\n",
    "\n",
    "search_button = widgets.Button(\n",
    "    description='Search',\n",
    "    button_style='primary'\n",
    ")\n",
    "\n",
    "results_output = widgets.Output()\n",
    "\n",
    "# 2. Define callback\n",
    "def on_search_clicked(b):\n",
    "    results_output.clear_output()\n",
    "    user_query = query_input.value.strip()\n",
    "    \n",
    "    if not user_query:\n",
    "        with results_output:\n",
    "            display(HTML(\"<p style='color:red;'>Please enter a query.</p>\"))\n",
    "        return\n",
    "    \n",
    "    # Call your real search function\n",
    "    results = search(df_movies, user_query, embedding_model, top_n=10)\n",
    "    \n",
    "    with results_output:\n",
    "        if not results:\n",
    "            display(HTML(\"<p>No results found.</p>\"))\n",
    "        else:\n",
    "            for idx, movie in enumerate(results, start=1):\n",
    "                title = movie.get(\"title\", \"Unknown Title\")\n",
    "                genres = movie.get(\"genres\", [])\n",
    "                summary = movie.get(\"summary_of_overview\", \"\")\n",
    "                vote = movie.get(\"vote_average\", \"\")\n",
    "                release_date = movie.get(\"release_date\", \"\")\n",
    "                popularity = movie.get(\"popularity\", \"\")\n",
    "\n",
    "                display(HTML(f\"\"\"\n",
    "                <h3>{idx}. {title}</h3>\n",
    "                <p><strong>Genres:</strong> {\", \".join(genres)}</p>\n",
    "                {\"<p><strong>Rating:</strong> \" + str(vote) + \"</p>\" if vote else \"\"}\n",
    "                {\"<p><strong>Release Date:</strong> \" + str(release_date) + \"</p>\" if release_date else \"\"}\n",
    "                {\"<p><strong>Popularity:</strong> \" + str(popularity) + \"</p>\" if popularity else \"\"}\n",
    "                <p>{summary}</p>\n",
    "                <hr>\n",
    "                \"\"\"))\n",
    "\n",
    "search_button.on_click(on_search_clicked)\n",
    "\n",
    "# 3. Display UI\n",
    "ui_box = widgets.HBox([query_input, search_button])\n",
    "display(ui_box)\n",
    "display(results_output)\n"
   ]
  }
 ],
 "metadata": {
  "kernelspec": {
   "display_name": "Python (GPU)",
   "language": "python",
   "name": "gpuenv"
  },
  "language_info": {
   "codemirror_mode": {
    "name": "ipython",
    "version": 3
   },
   "file_extension": ".py",
   "mimetype": "text/x-python",
   "name": "python",
   "nbconvert_exporter": "python",
   "pygments_lexer": "ipython3",
   "version": "3.9.18"
  }
 },
 "nbformat": 4,
 "nbformat_minor": 5
}
